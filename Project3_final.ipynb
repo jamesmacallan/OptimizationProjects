{
 "cells": [
  {
   "cell_type": "markdown",
   "metadata": {},
   "source": [
    "## Project 3: Non-Linear Programming"
   ]
  },
  {
   "cell_type": "markdown",
   "metadata": {},
   "source": [
    "Peyton Lewis, James Anderson, Louie, Juhi Patel"
   ]
  },
  {
   "cell_type": "markdown",
   "metadata": {},
   "source": [
    "#### Necessary Imports"
   ]
  },
  {
   "cell_type": "code",
   "execution_count": 1,
   "metadata": {},
   "outputs": [],
   "source": [
    "import numpy as np\n",
    "import pandas as pd\n",
    "import matplotlib.pyplot as plt\n",
    "import gurobipy as gp\n",
    "from sklearn.linear_model import Lasso, LassoCV\n",
    "from sklearn.metrics import mean_squared_error\n",
    "import sklearn\n",
    "import time\n",
    "import os \n",
    "import warnings\n",
    "warnings.filterwarnings(\"ignore\")"
   ]
  },
  {
   "cell_type": "markdown",
   "metadata": {},
   "source": [
    "#### Read in Data"
   ]
  },
  {
   "cell_type": "code",
   "execution_count": 2,
   "metadata": {},
   "outputs": [],
   "source": [
    "train = pd.read_csv('training_data (1).csv')\n",
    "test = pd.read_csv('test_data (1).csv')"
   ]
  },
  {
   "cell_type": "markdown",
   "metadata": {},
   "source": [
    "#### Time Limit and k Vector"
   ]
  },
  {
   "cell_type": "markdown",
   "metadata": {},
   "source": [
    "- This time limit variable can be changed to test the program. \n",
    "- This list of k values can be changed to whatever is desired for testing the MIQP program."
   ]
  },
  {
   "cell_type": "code",
   "execution_count": 3,
   "metadata": {},
   "outputs": [],
   "source": [
    "time_limit = 500\n",
    "k_list = [5, 10, 15, 20, 25, 30, 35, 40, 45, 50]"
   ]
  },
  {
   "cell_type": "markdown",
   "metadata": {},
   "source": [
    "#### Plot Formatting"
   ]
  },
  {
   "cell_type": "code",
   "execution_count": 4,
   "metadata": {},
   "outputs": [],
   "source": [
    "plt.rcParams['figure.figsize'] = (12, 7)\n",
    "plt.rcParams['lines.linewidth'] = 1\n",
    "plt.rcParams['axes.grid'] = True\n",
    "plt.rcParams['axes.labelweight'] = 'bold'\n",
    "plt.rcParams['axes.titleweight'] = 'bold'\n",
    "plt.style.use('fivethirtyeight')\n",
    "plt.rcParams['axes.titlesize'] = 20\n",
    "plt.rcParams['axes.labelsize'] = 18\n",
    "plt.rcParams['xtick.labelsize'] = 15\n",
    "plt.rcParams['ytick.labelsize'] = 15\n",
    "plt.rcParams['legend.fontsize'] = 15"
   ]
  },
  {
   "cell_type": "markdown",
   "metadata": {},
   "source": [
    "### **Problem 1: Direct Variable Selection (MIQP)**"
   ]
  },
  {
   "cell_type": "markdown",
   "metadata": {},
   "source": [
    "Objective Function: \n",
    "$$min_{\\beta ,z} \\sum_{i = 1}^{n} (\\beta_{0}\\, +\\, \\beta _{1}x_{i1}\\, +\\, ...\\, \\, \\beta _{m}x_{im}\\, -\\, y_{i})^{2}$$"
   ]
  },
  {
   "cell_type": "markdown",
   "metadata": {},
   "source": [
    "Quadratic Objective Function: \n",
    "$$min_{\\beta ,z}\\; \\beta ^{T}(X^{T}X)\\beta\\; +\\; (-2y^{T}X)\\beta $$"
   ]
  },
  {
   "cell_type": "markdown",
   "metadata": {},
   "source": [
    "Constraints: \n",
    "$$s.t. -Mz_{j}\\leq \\beta_{j}\\leq Mz_{j}\\; for\\; j = 1, 2, 3,...m$$\n",
    "$$\\sum_{j = 1}^{m}z_{j}\\leq k$$\n",
    "$$z_{j} \\in \\{0,1\\}$$"
   ]
  },
  {
   "cell_type": "markdown",
   "metadata": {},
   "source": [
    "Decision Variables: \n",
    "- m + 1 Beta decision variables\n",
    "- m binary z decision variables\n",
    "- Total: 2m + 1 decision variables"
   ]
  },
  {
   "cell_type": "markdown",
   "metadata": {},
   "source": [
    "<br>"
   ]
  },
  {
   "cell_type": "markdown",
   "metadata": {},
   "source": [
    "#### Function to Solve the MIQP"
   ]
  },
  {
   "cell_type": "code",
   "execution_count": 5,
   "metadata": {},
   "outputs": [],
   "source": [
    "# Function that takes a training set, test set, and k parameter \n",
    "# Returns the test SSE, the predicted y values on the test set, and the betas\n",
    "\n",
    "def solve_gurobi (train, test, k) : \n",
    "    \n",
    "    # Get m and n parameters from training data \n",
    "    # m is number of independent variables (50 here)\n",
    "    m = train.shape[1] - 1   \n",
    "    # n is number of observations (250 here)\n",
    "    n = train.shape[0]      \n",
    "\n",
    "\n",
    "    # Set parameters for Gurobi model\n",
    "    M = 100\n",
    "\n",
    "\n",
    "    # Creating X and y matrices/vectors\n",
    "    # Vector of 1s the length of training data (same # of rows)\n",
    "    one_vec = np.ones(train.shape[0]).reshape((train.shape[0], 1))\n",
    "    # X_train excluding the y column \n",
    "    X_pre = train.iloc[:, 1:].to_numpy()\n",
    "    # Add column of 1s in front of X_matrix (essentially X_train)\n",
    "    X_matrix = np.concatenate((one_vec, X_pre), axis = 1)\n",
    "    # Get y_train as an array \n",
    "    y_vector = train.iloc[:, 0].to_numpy()\n",
    "\n",
    "\n",
    "    # Q Matrix\n",
    "    Q = np.zeros((2 * m + 1, 2 * m + 1))\n",
    "    # Multiplication of X_transpose * X\n",
    "    x_trans_x = np.matmul(np.transpose(X_matrix), X_matrix)\n",
    "    # Upper left corner of Q matrix is (X^TX)\n",
    "    Q[0 : m + 1, 0 : m + 1] = x_trans_x\n",
    "\n",
    "\n",
    "    # Linear Vector \n",
    "    linear_vec = np.zeros((2 * m + 1, 1))\n",
    "    # First m + 1 elements of linear vector are -2(X^Ty)\n",
    "    linear_vec[0 : m + 1] = (np.matmul(np.transpose(y_vector), X_matrix) * -2).reshape((m + 1, 1))\n",
    "    linear_vec = np.transpose(linear_vec)\n",
    "    # Flatten vector so it can be used in later computations\n",
    "    lin = linear_vec.flatten()\n",
    "\n",
    "\n",
    "    # Constraints Matrix \n",
    "    A = np.zeros((2 * m + 1, 2 * m + 1))\n",
    "\n",
    "    # Constraint Type I: Upper and lower bound constraints on Betas (one <= and one >= for each m\n",
    "    # For all the <= constraints, the upper bound is Mz \n",
    "    A[0: m, 1: m + 1] = np.identity(m)        # B - Mz <= 0\n",
    "    A[0: m, m + 1: ] = np.identity(m) * -M\n",
    "    # For all the >= constraints, the lower bound is -Mz\n",
    "    A[m: 2 * m, 1: m + 1] = np.identity(m)    # B + Mz >= 0\n",
    "    A[m: 2 * m, m + 1: ] = np.identity(m) * M\n",
    "\n",
    "    # Constraint Type II: Sum of the z binary variables needs to be <= k\n",
    "    A[-1, -m:] = 1\n",
    "\n",
    "\n",
    "    # Sense Vector\n",
    "    sense = np.array([''] * (2 * m + 1))\n",
    "    # 0 to 49 needs < , 50 to 99 needs >, 100 gets = \n",
    "    sense[0: m] = '<'\n",
    "    sense[m: 2 * m] = '>'\n",
    "    sense[-1] = '<'\n",
    "\n",
    "    # b Vector (RHS)\n",
    "    b = np.zeros(2 * m + 1)\n",
    "    # Sum of z's is <= k constraint RHS\n",
    "    b[-1] = k\n",
    "\n",
    "    # Gurobi Model \n",
    "    lb = [-M] * (m + 1) + [0] * m       # Placing a lower bound of -M on the Betas (m + 1 of these), rest have lower bound of 0\n",
    "    regMod = gp.Model()\n",
    "    regMod_x = regMod.addMVar(2 * m + 1, vtype = ['C'] * (m + 1) + ['B'] * m, lb = lb)   # Betas are continuous, rest are binary\n",
    "    regMod_con = regMod.addMConstr(A, regMod_x, sense, b)\n",
    "    regMod.setMObjective(Q,lin,0,sense=gp.GRB.MINIMIZE)\n",
    "\n",
    "    regMod.Params.OutputFlag = 0 \n",
    "    regMod.Params.TimeLimit = time_limit\n",
    "    regMod.optimize()\n",
    "\n",
    "\n",
    "    # EVALUATING PERFORMANCE \n",
    "\n",
    "    # Extract the betas from the Gurobi model \n",
    "    betas = np.array(regMod_x.x[:m + 1]).reshape((m + 1, 1))\n",
    "\n",
    "    # Test the model on the test fold using betas\n",
    "    # Again vector of 1s to append to the X_test_matrix\n",
    "    one_vec_test = np.ones(test.shape[0]).reshape((test.shape[0], 1))\n",
    "    X_pre_test = test.iloc[:, 1:].to_numpy()\n",
    "    X_matrix_test = np.concatenate((one_vec_test, X_pre_test), axis = 1)\n",
    "    # Computing X^TX\n",
    "    x_trans_x_test = np.matmul(np.transpose(X_matrix_test), X_matrix_test)\n",
    "    # Getting array of y_test true values \n",
    "    y_vector_test = test.iloc[:, 0].to_numpy().reshape((test.shape[0], 1))\n",
    "\n",
    "\n",
    "    # VERSION 1 of SSE (matrix SSE formulation)\n",
    "    # SSE of that particular training fold \n",
    "    # Same formula as in the quadratic objective function but adds y^Ty at the end because this was removed from the objective, but needs to be there to compute SSE\n",
    "    sse = (np.transpose(betas) @ x_trans_x_test @ betas) - ((2 * np.transpose(y_vector_test) @ X_matrix_test) @ betas) + (np.transpose(y_vector_test) @ y_vector_test)\n",
    "    # Was double indexed as a list item\n",
    "    sse = sse[0][0] \n",
    "    # Computing predicted y's on the test data\n",
    "    predictions = np.matmul(X_matrix_test, betas)\n",
    " \n",
    "\n",
    "    return predictions, sse, betas"
   ]
  },
  {
   "cell_type": "markdown",
   "metadata": {},
   "source": [
    "### Cross Validation (k) - MIQP "
   ]
  },
  {
   "cell_type": "code",
   "execution_count": 6,
   "metadata": {},
   "outputs": [
    {
     "name": "stdout",
     "output_type": "stream",
     "text": [
      "\n",
      "File does not exist. Computing betas for k = 5.\n",
      "Set parameter Username\n",
      "Academic license - for non-commercial use only - expires 2023-08-19\n",
      "Time:  3.763  seconds\n",
      "SSE:  964.7878048016695\n",
      "\n",
      "File does not exist. Computing betas for k = 10.\n",
      "Time:  10.633  seconds\n",
      "SSE:  713.4364780347676\n",
      "\n",
      "File does not exist. Computing betas for k = 15.\n",
      "Time:  651.265  seconds\n",
      "SSE:  769.5308120946039\n",
      "\n",
      "File does not exist. Computing betas for k = 20.\n",
      "Time:  1959.748  seconds\n",
      "SSE:  800.9061376198287\n",
      "\n",
      "File does not exist. Computing betas for k = 25.\n",
      "Time:  757.446  seconds\n",
      "SSE:  781.0066659817257\n",
      "\n",
      "File does not exist. Computing betas for k = 30.\n",
      "Time:  204.353  seconds\n",
      "SSE:  818.2360931976953\n",
      "\n",
      "File does not exist. Computing betas for k = 35.\n",
      "Time:  30.02  seconds\n",
      "SSE:  830.8795146135465\n",
      "\n",
      "File does not exist. Computing betas for k = 40.\n",
      "Time:  1.471  seconds\n",
      "SSE:  825.345654203603\n",
      "\n",
      "File does not exist. Computing betas for k = 45.\n",
      "Time:  0.32  seconds\n",
      "SSE:  832.3477231106846\n",
      "\n",
      "File does not exist. Computing betas for k = 50.\n",
      "Time:  0.056  seconds\n",
      "SSE:  837.2928593740892\n",
      "\n"
     ]
    }
   ],
   "source": [
    "# Get a measure of n, the number of rows in the training data \n",
    "n = train.shape[0]\n",
    "\n",
    "# Randomly shuffling the data into 10 folds by mixing around the 250 indices of these data points and sampling without replacement and places into an array\n",
    "# Will allow training data to be split into 10 batches (equally sized) with 25 random indices each\n",
    "shuf = np.random.choice(range(n),size = n, replace = False) \n",
    "\n",
    "# Actually splits the randomized indices into 10 folds w 25 indices each\n",
    "folds = np.array_split(shuf, 10)  \n",
    "\n",
    "# Initialize empty dictionary to store results of cross validation with k \n",
    "k_dict = {}\n",
    "\n",
    "print()\n",
    "\n",
    "# Outer loop through the k values \n",
    "for k in k_list:\n",
    "\n",
    "    # Keep track time for each k\n",
    "    start_time = time.time()\n",
    "\n",
    "    # Initialize to empty list to store SSE's for each k\n",
    "    total_sse = []\n",
    "\n",
    "    # Check to see if csv with results already exists, else runs the Gurobi model\n",
    "    file_exists = os.path.exists('sse_' + str(k) + '.csv')\n",
    "\n",
    "    # Will run if results file exists\n",
    "    if file_exists == True: \n",
    "        print('File exists. Pulling csv for k = ' + str(k) + '.')\n",
    "        results_df = pd.read_csv('sse_' + str(k) + '.csv', index_col = 0)\n",
    "\n",
    "    # Will run if results file does not exist\n",
    "    else: \n",
    "        print('File does not exist. Computing betas for k = ' + str(k) + '.')\n",
    "\n",
    "        # Inner Loop through the same 10 folds \n",
    "        # Within each iteration of this inner loop, the fold is the test, and the other 9 are what the model is trained on\n",
    "        for fold in folds: \n",
    "            \n",
    "            # Get test indices\n",
    "            test_fold_indices = fold\n",
    "\n",
    "            # Train fold indices are all the indices that are not in the test fold indices\n",
    "            train_fold_indices = np.setdiff1d(shuf, test_fold_indices)\n",
    "\n",
    "            # Get test and train dataframes using those indices\n",
    "            train_fold = train.iloc[train_fold_indices, :]\n",
    "            test_fold = train.iloc[test_fold_indices, :]\n",
    "            \n",
    "            # Call gurobi function \n",
    "            preds, sse, betas = solve_gurobi(train_fold, test_fold, k)\n",
    "            total_sse.append(sse)\n",
    "\n",
    "\n",
    "        # Create data frame for each k with a series of the SSE's for each fold\n",
    "        # We will sum all 10 of these SSEs to get a single measure of SSE for each k\n",
    "        results_df = pd.DataFrame(total_sse, columns = ['SSE'])\n",
    "        results_df.to_csv('sse_' + str(k) + '.csv')\n",
    "\n",
    "    # End time \n",
    "    end_time = time.time()\n",
    "\n",
    "    # Print message to user \n",
    "    print(\"Time: \", round(end_time - start_time, 3) , \" seconds\")\n",
    "    print('SSE: ', results_df['SSE'].sum())\n",
    "    print()\n",
    "    \n",
    "    # Store the total SSE for each k in a dictionary\n",
    "    k_dict[k] = sum(results_df['SSE'])\n"
   ]
  },
  {
   "cell_type": "code",
   "execution_count": 7,
   "metadata": {},
   "outputs": [
    {
     "data": {
      "text/html": [
       "<div>\n",
       "<style scoped>\n",
       "    .dataframe tbody tr th:only-of-type {\n",
       "        vertical-align: middle;\n",
       "    }\n",
       "\n",
       "    .dataframe tbody tr th {\n",
       "        vertical-align: top;\n",
       "    }\n",
       "\n",
       "    .dataframe thead th {\n",
       "        text-align: right;\n",
       "    }\n",
       "</style>\n",
       "<table border=\"1\" class=\"dataframe\">\n",
       "  <thead>\n",
       "    <tr style=\"text-align: right;\">\n",
       "      <th></th>\n",
       "      <th>SSE</th>\n",
       "    </tr>\n",
       "    <tr>\n",
       "      <th>k</th>\n",
       "      <th></th>\n",
       "    </tr>\n",
       "  </thead>\n",
       "  <tbody>\n",
       "    <tr>\n",
       "      <th>5</th>\n",
       "      <td>964.787805</td>\n",
       "    </tr>\n",
       "    <tr>\n",
       "      <th>10</th>\n",
       "      <td>713.436478</td>\n",
       "    </tr>\n",
       "    <tr>\n",
       "      <th>15</th>\n",
       "      <td>769.530812</td>\n",
       "    </tr>\n",
       "    <tr>\n",
       "      <th>20</th>\n",
       "      <td>800.906138</td>\n",
       "    </tr>\n",
       "    <tr>\n",
       "      <th>25</th>\n",
       "      <td>781.006666</td>\n",
       "    </tr>\n",
       "    <tr>\n",
       "      <th>30</th>\n",
       "      <td>818.236093</td>\n",
       "    </tr>\n",
       "    <tr>\n",
       "      <th>35</th>\n",
       "      <td>830.879515</td>\n",
       "    </tr>\n",
       "    <tr>\n",
       "      <th>40</th>\n",
       "      <td>825.345654</td>\n",
       "    </tr>\n",
       "    <tr>\n",
       "      <th>45</th>\n",
       "      <td>832.347723</td>\n",
       "    </tr>\n",
       "    <tr>\n",
       "      <th>50</th>\n",
       "      <td>837.292859</td>\n",
       "    </tr>\n",
       "  </tbody>\n",
       "</table>\n",
       "</div>"
      ],
      "text/plain": [
       "           SSE\n",
       "k             \n",
       "5   964.787805\n",
       "10  713.436478\n",
       "15  769.530812\n",
       "20  800.906138\n",
       "25  781.006666\n",
       "30  818.236093\n",
       "35  830.879515\n",
       "40  825.345654\n",
       "45  832.347723\n",
       "50  837.292859"
      ]
     },
     "execution_count": 7,
     "metadata": {},
     "output_type": "execute_result"
    }
   ],
   "source": [
    "# Putting these SSE and k results into df  \n",
    "final_results_df = pd.DataFrame.from_dict(k_dict, orient = 'index', columns = ['SSE'])\n",
    "final_results_df.index.name = 'k'\n",
    "final_results_df"
   ]
  },
  {
   "cell_type": "markdown",
   "metadata": {},
   "source": [
    "#### Cross Validation Plot (k) - MIQP"
   ]
  },
  {
   "cell_type": "code",
   "execution_count": 8,
   "metadata": {},
   "outputs": [
    {
     "data": {
      "image/png": "[encoded data removed]",
      "text/plain": [
       "<Figure size 1200x700 with 1 Axes>"
      ]
     },
     "metadata": {},
     "output_type": "display_data"
    }
   ],
   "source": [
    "# Plot of k versus total sse for each value of k\n",
    "plt.plot(k_dict.keys(), k_dict.values())\n",
    "plt.xlabel('k Predictors')\n",
    "plt.ylabel('Sum of Squared Errors')\n",
    "plt.title('Sum of Squared Errors for each value of k')\n",
    "plt.show()"
   ]
  },
  {
   "cell_type": "markdown",
   "metadata": {},
   "source": [
    "#### Retrieve Optimal k, and Fit MIQP Model on Full Training Set"
   ]
  },
  {
   "cell_type": "code",
   "execution_count": 9,
   "metadata": {},
   "outputs": [
    {
     "name": "stdout",
     "output_type": "stream",
     "text": [
      "The minimum SSE is associated with k = 10.\n"
     ]
    }
   ],
   "source": [
    "# From k_dict, gets the lowest value of SSE and the corresponding k\n",
    "min_sse = min(k_dict.values())\n",
    "min_k = min(k_dict, key = k_dict.get)\n",
    "\n",
    "print('The minimum SSE is associated with' + ' k = ' + str(min_k) + '.')"
   ]
  },
  {
   "cell_type": "markdown",
   "metadata": {},
   "source": [
    "#### Non-Zero MIQP Betas"
   ]
  },
  {
   "cell_type": "code",
   "execution_count": 10,
   "metadata": {},
   "outputs": [
    {
     "data": {
      "text/html": [
       "<div>\n",
       "<style scoped>\n",
       "    .dataframe tbody tr th:only-of-type {\n",
       "        vertical-align: middle;\n",
       "    }\n",
       "\n",
       "    .dataframe tbody tr th {\n",
       "        vertical-align: top;\n",
       "    }\n",
       "\n",
       "    .dataframe thead th {\n",
       "        text-align: right;\n",
       "    }\n",
       "</style>\n",
       "<table border=\"1\" class=\"dataframe\">\n",
       "  <thead>\n",
       "    <tr style=\"text-align: right;\">\n",
       "      <th></th>\n",
       "      <th>Beta</th>\n",
       "    </tr>\n",
       "  </thead>\n",
       "  <tbody>\n",
       "    <tr>\n",
       "      <th>Intercept</th>\n",
       "      <td>0.972524</td>\n",
       "    </tr>\n",
       "    <tr>\n",
       "      <th>X9</th>\n",
       "      <td>-2.308207</td>\n",
       "    </tr>\n",
       "    <tr>\n",
       "      <th>X15</th>\n",
       "      <td>-0.518326</td>\n",
       "    </tr>\n",
       "    <tr>\n",
       "      <th>X16</th>\n",
       "      <td>-0.204162</td>\n",
       "    </tr>\n",
       "    <tr>\n",
       "      <th>X23</th>\n",
       "      <td>-1.559143</td>\n",
       "    </tr>\n",
       "    <tr>\n",
       "      <th>X24</th>\n",
       "      <td>0.866973</td>\n",
       "    </tr>\n",
       "    <tr>\n",
       "      <th>X26</th>\n",
       "      <td>-1.311919</td>\n",
       "    </tr>\n",
       "    <tr>\n",
       "      <th>X34</th>\n",
       "      <td>0.408165</td>\n",
       "    </tr>\n",
       "    <tr>\n",
       "      <th>X45</th>\n",
       "      <td>1.781475</td>\n",
       "    </tr>\n",
       "    <tr>\n",
       "      <th>X47</th>\n",
       "      <td>0.887383</td>\n",
       "    </tr>\n",
       "    <tr>\n",
       "      <th>X48</th>\n",
       "      <td>-0.282292</td>\n",
       "    </tr>\n",
       "  </tbody>\n",
       "</table>\n",
       "</div>"
      ],
      "text/plain": [
       "               Beta\n",
       "Intercept  0.972524\n",
       "X9        -2.308207\n",
       "X15       -0.518326\n",
       "X16       -0.204162\n",
       "X23       -1.559143\n",
       "X24        0.866973\n",
       "X26       -1.311919\n",
       "X34        0.408165\n",
       "X45        1.781475\n",
       "X47        0.887383\n",
       "X48       -0.282292"
      ]
     },
     "execution_count": 10,
     "metadata": {},
     "output_type": "execute_result"
    }
   ],
   "source": [
    "# Display the non-zero betas in the MIQP model\n",
    "preds, sse, miqp_betas = solve_gurobi(train, test, min_k)\n",
    "miqp_betas_df = pd.DataFrame(miqp_betas, index = ['Intercept'] + list(train.columns[1:]), columns = ['Beta'])\n",
    "miqp_betas_df[miqp_betas_df['Beta'] != 0]"
   ]
  },
  {
   "cell_type": "markdown",
   "metadata": {},
   "source": [
    "#### Performance Metrics for MIQP Model"
   ]
  },
  {
   "cell_type": "code",
   "execution_count": 11,
   "metadata": {},
   "outputs": [
    {
     "name": "stdout",
     "output_type": "stream",
     "text": [
      "\n",
      "MIQP Results with k = 10:\n",
      "\n",
      "Test SSE:  116.8272\n",
      "Test MSE:  2.33654\n",
      "Test R2:  0.85867\n"
     ]
    }
   ],
   "source": [
    "# Using optimal k in the gurobi model to get the test SSE, test MSE, and the test r2\n",
    "y_test = test['y']\n",
    "miqp_mse = sse / test.shape[0]\n",
    "miqp_r2 = sklearn.metrics.r2_score(y_test, preds)\n",
    "print()\n",
    "print('MIQP Results with' + ' k = ' + str(min_k) + ':')\n",
    "print()\n",
    "print(\"Test SSE: \", round(sse, 5))\n",
    "print(\"Test MSE: \", round(miqp_mse, 5))\n",
    "print(\"Test R2: \", round(miqp_r2, 5))"
   ]
  },
  {
   "cell_type": "markdown",
   "metadata": {},
   "source": [
    "<br>"
   ]
  },
  {
   "cell_type": "markdown",
   "metadata": {},
   "source": [
    "### **Problem 2: Indirect Variable Selection (LASSO)**"
   ]
  },
  {
   "cell_type": "markdown",
   "metadata": {},
   "source": [
    "LASSO Objective Function: \n",
    "$$min_{\\beta} \\sum_{i = 1}^{n} (\\beta_{0}\\, +\\, \\beta _{1}x_{i1}\\, +\\, ...\\, \\, \\beta _{m}x_{im}\\, -\\, y_{i})^{2}\\; +\\; \\lambda \\sum_{j = 1}^{m}\\left | \\beta _{j} \\right |$$\n"
   ]
  },
  {
   "cell_type": "code",
   "execution_count": null,
   "metadata": {},
   "outputs": [],
   "source": [
    "# Establish train and test data\n",
    "X_train = train.drop(['y'], axis = 1)\n",
    "y_train = train['y']\n",
    "X_test = test.drop(['y'], axis = 1)\n",
    "y_test = test['y']\n",
    "\n",
    "# Vector of lambdas to cross validate\n",
    "lambdas = 10 ** np.linspace(6, -6, 10000)\n",
    "\n",
    "# Cross-validation with 10 folds\n",
    "lasso_cv = LassoCV(cv = 10, alphas = lambdas, max_iter = 10000, normalize = True).fit(X_train, y_train)\n",
    "best_lambda = lasso_cv.alpha_\n",
    "print(\"Best lambda LassoCV: \", round(best_lambda, 5))\n",
    "\n",
    "# Get intercept and append to list of LASSO coefficients\n",
    "lasso_intercept = lasso_cv.intercept_\n",
    "lasso_coeffs = list(lasso_cv.coef_)\n",
    "lasso_coeffs.insert(0, lasso_intercept)\n",
    "\n",
    "# Create data frame of coefficients\n",
    "lasso_betas_df = pd.DataFrame(lasso_coeffs, index = ['Intercept'] + list(train.columns[1:]), columns = ['Beta'])\n",
    "print()\n",
    "print(\"Number of Non-zero Coefficients (Excluding Intercept):\", (lasso_betas_df['Beta'] != 0).sum() - 1)\n",
    "print()\n",
    "lasso_betas_df[lasso_betas_df['Beta'] != 0]"
   ]
  },
  {
   "cell_type": "markdown",
   "metadata": {},
   "source": [
    "#### Plots for LASSO Model"
   ]
  },
  {
   "cell_type": "code",
   "execution_count": null,
   "metadata": {},
   "outputs": [],
   "source": [
    "# Smaller range of lambas for ease of plotting \n",
    "alpha = 10 ** np.linspace(6,-6,1000) \n",
    "\n",
    "# Getting the lasso coefficients\n",
    "lasso_coefficients = []\n",
    "\n",
    "# Dictionaries to store train SSE and train MSE\n",
    "sse = {}\n",
    "mse = {}\n",
    "\n",
    "# Loop through all values of alpha/lambda\n",
    "for value in alpha:\n",
    "\n",
    "    # Fit lasso model with that lambda on training data\n",
    "    lasso_model = sklearn.linear_model.Lasso(alpha = value).fit(X_train, y_train)\n",
    "\n",
    "    # Append those coefficients\n",
    "    lasso_coefficients.append(lasso_model.coef_)\n",
    "    \n",
    "    # Get the training predictions\n",
    "    y_train_pred = lasso_model.predict(X_train)\n",
    "    \n",
    "    # Calculate and store the training SSE \n",
    "    sse[value] = sum((y_train - y_train_pred) ** 2)\n",
    "    \n",
    "    # Calculate and store the training MSE\n",
    "    mse[value] = sklearn.metrics.mean_squared_error(y_train, y_train_pred)\n",
    "    \n",
    "# Plot the lasso coefficients vs. lambda values\n",
    "plt.plot(alpha, lasso_coefficients)\n",
    "colNames = list(X_train.columns)\n",
    "plt.title(\"Lasso Model\")\n",
    "plt.xlabel(\"Lambda\")\n",
    "plt.ylabel(\"Beta Coefficients\")\n",
    "plt.xscale(\"log\")"
   ]
  },
  {
   "cell_type": "code",
   "execution_count": null,
   "metadata": {},
   "outputs": [],
   "source": [
    "# Plot training SSE vs. alpha values in sse_dict\n",
    "plt.plot(sse.keys(), sse.values())\n",
    "plt.xlabel('Lambda')\n",
    "plt.ylabel('Sum of Squared Errors')\n",
    "plt.axvline(best_lambda, linestyle = '--', color = 'green', label = 'Best Lambda: ' + str(round(best_lambda, 4)))\n",
    "plt.legend(loc = 'lower right')\n",
    "plt.title('Sum of Squared Errors for each value of Lambda')\n",
    "plt.xscale('log')\n",
    "plt.show()"
   ]
  },
  {
   "cell_type": "code",
   "execution_count": null,
   "metadata": {},
   "outputs": [],
   "source": [
    "# Plot training MSE vs. lambda values in mse_dict\n",
    "plt.plot(mse.keys(), mse.values())\n",
    "plt.xlabel('Lambda')\n",
    "plt.ylabel('Mean Squared Error')\n",
    "plt.axvline(best_lambda, linestyle = '--', color = 'green', label = 'Best Lambda: ' + str(round(best_lambda, 4)))\n",
    "plt.legend(loc = 'lower right')\n",
    "plt.title('Mean Squared Error for each value of Lambda')\n",
    "plt.xscale('log')"
   ]
  },
  {
   "cell_type": "markdown",
   "metadata": {},
   "source": [
    "#### Comparison of Model Coefficients"
   ]
  },
  {
   "cell_type": "code",
   "execution_count": null,
   "metadata": {},
   "outputs": [],
   "source": [
    "# Combining the two data frames of betas\n",
    "betas_df = pd.concat([miqp_betas_df, lasso_betas_df], axis = 1)\n",
    "betas_df.columns = ['MIQP', 'LASSO']\n",
    "betas_df"
   ]
  },
  {
   "cell_type": "markdown",
   "metadata": {},
   "source": [
    "#### Performance Metrics - LASSO"
   ]
  },
  {
   "cell_type": "code",
   "execution_count": null,
   "metadata": {},
   "outputs": [],
   "source": [
    "# Getting test MSE for optimal LASSO model\n",
    "test_pred = lasso_cv.predict(X_test)\n",
    "lasso_test_mse = sklearn.metrics.mean_squared_error(y_test, test_pred)\n",
    "lasso_r2 = sklearn.metrics.r2_score(y_test, test_pred) \n",
    "\n",
    "# Print results\n",
    "print()\n",
    "print('LASSO Results with' + ' lambda = ' + str(round(best_lambda, 5)) + ':')\n",
    "print()\n",
    "print(\"Optimal Lambda: \", round(best_lambda, 5))\n",
    "print(\"LASSO Test MSE: \", format(lasso_test_mse, '.5f'))\n",
    "print(\"LASSO Test R2: \", format(lasso_r2, '.5f'))\n",
    "print()"
   ]
  },
  {
   "cell_type": "markdown",
   "metadata": {},
   "source": [
    "#### Performance Metrics Comparison - MIQP vs. LASSO"
   ]
  },
  {
   "cell_type": "code",
   "execution_count": null,
   "metadata": {},
   "outputs": [],
   "source": [
    "# Performance metrics for MIQP and LASSO\n",
    "index = ['MIQP', 'LASSO']\n",
    "results = pd.DataFrame({'Test MSE': [miqp_mse, lasso_test_mse], 'Test R2': [miqp_r2, lasso_r2]}, index = index)\n",
    "results"
   ]
  }
 ],
 "metadata": {
  "kernelspec": {
   "display_name": "Python 3 (ipykernel)",
   "language": "python",
   "name": "python3"
  },
  "language_info": {
   "codemirror_mode": {
    "name": "ipython",
    "version": 3
   },
   "file_extension": ".py",
   "mimetype": "text/x-python",
   "name": "python",
   "nbconvert_exporter": "python",
   "pygments_lexer": "ipython3",
   "version": "3.9.12"
  },
  "vscode": {
   "interpreter": {
    "hash": "6d16231084e55caf206c5dcf9a407b9830a1cccf4c1bfe921ab5cc3709ab824f"
   }
  }
 },
 "nbformat": 4,
 "nbformat_minor": 2
}
